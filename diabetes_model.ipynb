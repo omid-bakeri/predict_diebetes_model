{
 "cells": [
  {
   "cell_type": "markdown",
   "id": "78d01224-afdf-47b2-b526-776d19d112c3",
   "metadata": {},
   "source": [
    "# Import Libraries"
   ]
  },
  {
   "cell_type": "code",
   "execution_count": 4,
   "id": "35bb1346-14d6-46ce-b803-c5e83c396fd0",
   "metadata": {},
   "outputs": [],
   "source": [
    "import numpy as np\n",
    "import pandas as pd\n",
    "import matplotlib.pyplot as plt\n",
    "import seaborn as sns\n",
    "from tabulate import tabulate"
   ]
  },
  {
   "cell_type": "markdown",
   "id": "750533fd-c757-49ac-9c8f-15d5d7e9026e",
   "metadata": {},
   "source": [
    "# Upload Dataset"
   ]
  },
  {
   "cell_type": "code",
   "execution_count": 5,
   "id": "3c89a8f0-75be-418e-9c88-d26c4b77c2c5",
   "metadata": {},
   "outputs": [],
   "source": [
    "# use pandas\n",
    "\n",
    "dataset = pd.read_csv(\"modified_diabetes_prediction_dataset.csv\")"
   ]
  },
  {
   "cell_type": "code",
   "execution_count": 6,
   "id": "f554ad0f-2aa5-4ec0-9a0c-209e50984f80",
   "metadata": {},
   "outputs": [
    {
     "name": "stdout",
     "output_type": "stream",
     "text": [
      "    gender   age  hypertension  ...  HbA1c_level blood_glucose_level  diabetes\n",
      "0  unknown  78.0             0  ...          6.6                 140         0\n",
      "1   Female   NaN             0  ...          6.6                  80         0\n",
      "2     Male  28.0             0  ...          5.7                9999         0\n",
      "3   Female  37.0             0  ...          NaN                 155         0\n",
      "4     Male  75.0             1  ...          4.8                 155         0\n",
      "\n",
      "[5 rows x 9 columns]\n"
     ]
    }
   ],
   "source": [
    "print (dataset.head())"
   ]
  },
  {
   "cell_type": "code",
   "execution_count": 7,
   "id": "224caacb-6acb-416e-bcc8-6d486df6908d",
   "metadata": {},
   "outputs": [
    {
     "name": "stdout",
     "output_type": "stream",
     "text": [
      "(100001, 9)\n"
     ]
    }
   ],
   "source": [
    "print (dataset.shape)"
   ]
  },
  {
   "cell_type": "markdown",
   "id": "37c7f93f-3513-41bd-9dd2-134e5d521122",
   "metadata": {},
   "source": [
    "# Use Tabulate"
   ]
  },
  {
   "cell_type": "code",
   "execution_count": 8,
   "id": "5063f3d7-c954-4dc5-8263-669d3272297a",
   "metadata": {},
   "outputs": [
    {
     "name": "stdout",
     "output_type": "stream",
     "text": [
      "+---+---------+------+--------------+---------------+-----------------+-------------+-------------+---------------------+----------+\n",
      "|   | gender  | age  | hypertension | heart_disease | smoking_history |     bmi     | HbA1c_level | blood_glucose_level | diabetes |\n",
      "+---+---------+------+--------------+---------------+-----------------+-------------+-------------+---------------------+----------+\n",
      "| 0 | unknown | 78.0 |      0       |       1       |      never      | 101.6650153 |     6.6     |         140         |    0     |\n",
      "| 1 | Female  | nan  |      0       |       0       |     No Info     | 28.03457192 |     6.6     |         80          |    0     |\n",
      "| 2 |  Male   | 28.0 |      0       |       0       |       nan       | 25.36915222 |     5.7     |        9999         |    0     |\n",
      "| 3 | Female  | 37.0 |      0       |       0       |       yes       | 25.26260189 |     nan     |         155         |    0     |\n",
      "| 4 |  Male   | 75.0 |      1       |       1       |     current     | 23.21281117 |     4.8     |         155         |    0     |\n",
      "+---+---------+------+--------------+---------------+-----------------+-------------+-------------+---------------------+----------+\n"
     ]
    }
   ],
   "source": [
    "print(tabulate(dataset.head(), headers='keys', tablefmt='pretty'))"
   ]
  },
  {
   "cell_type": "markdown",
   "id": "1125e3f2-ef50-4163-843e-24b3f03996ab",
   "metadata": {},
   "source": [
    "# Missing Values"
   ]
  },
  {
   "cell_type": "code",
   "execution_count": 9,
   "id": "68ab13f1-1d0b-4428-9860-f3a27eee0ffd",
   "metadata": {},
   "outputs": [
    {
     "name": "stdout",
     "output_type": "stream",
     "text": [
      "gender                 0\n",
      "age                    2\n",
      "hypertension           0\n",
      "heart_disease          0\n",
      "smoking_history        1\n",
      "bmi                    0\n",
      "HbA1c_level            1\n",
      "blood_glucose_level    0\n",
      "diabetes               0\n",
      "dtype: int64\n"
     ]
    }
   ],
   "source": [
    "print (dataset.isnull().sum())"
   ]
  },
  {
   "cell_type": "markdown",
   "id": "261824f8-cc4e-4f11-8ead-6d67f8e25d8c",
   "metadata": {},
   "source": [
    "# delete Age columns null data"
   ]
  },
  {
   "cell_type": "code",
   "execution_count": 10,
   "id": "6fd2141d-7d55-4ab9-84f9-fa2250cd1927",
   "metadata": {},
   "outputs": [],
   "source": [
    "dataset.dropna(subset=['age'], inplace=True)"
   ]
  },
  {
   "cell_type": "code",
   "execution_count": 11,
   "id": "1e2ecdce-5e22-4a13-86ea-a826cc56d4f7",
   "metadata": {},
   "outputs": [
    {
     "name": "stdout",
     "output_type": "stream",
     "text": [
      "(99999, 9)\n"
     ]
    }
   ],
   "source": [
    "print (dataset.shape)"
   ]
  },
  {
   "cell_type": "code",
   "execution_count": 12,
   "id": "be58cb5f-c033-4164-a1c0-f2365f151628",
   "metadata": {},
   "outputs": [
    {
     "name": "stdout",
     "output_type": "stream",
     "text": [
      "1\n"
     ]
    }
   ],
   "source": [
    "print(dataset['smoking_history'].isnull().sum())"
   ]
  },
  {
   "cell_type": "code",
   "execution_count": 13,
   "id": "eaf99968-c296-4fff-921d-e3e500e16730",
   "metadata": {},
   "outputs": [
    {
     "name": "stdout",
     "output_type": "stream",
     "text": [
      "gender                 0\n",
      "age                    0\n",
      "hypertension           0\n",
      "heart_disease          0\n",
      "smoking_history        1\n",
      "bmi                    0\n",
      "HbA1c_level            1\n",
      "blood_glucose_level    0\n",
      "diabetes               0\n",
      "dtype: int64\n"
     ]
    }
   ],
   "source": [
    "print (dataset.isnull().sum())"
   ]
  },
  {
   "cell_type": "code",
   "execution_count": 14,
   "id": "ab5487fa-cc5f-40b8-9592-c69b810b7d50",
   "metadata": {},
   "outputs": [],
   "source": [
    "mode_smoking = dataset['smoking_history'].mode()[0]\n",
    "dataset['smoking_history'] = dataset['smoking_history'].fillna(mode_smoking)\n"
   ]
  },
  {
   "cell_type": "code",
   "execution_count": 15,
   "id": "8aa0dea9-45bd-4a93-a59d-0ec625508319",
   "metadata": {},
   "outputs": [
    {
     "name": "stdout",
     "output_type": "stream",
     "text": [
      "gender                 0\n",
      "age                    0\n",
      "hypertension           0\n",
      "heart_disease          0\n",
      "smoking_history        0\n",
      "bmi                    0\n",
      "HbA1c_level            1\n",
      "blood_glucose_level    0\n",
      "diabetes               0\n",
      "dtype: int64\n"
     ]
    }
   ],
   "source": [
    "print (dataset.isnull().sum())"
   ]
  },
  {
   "cell_type": "code",
   "execution_count": 16,
   "id": "7cefc7f2-bc5a-4bcc-872e-ca5d69808577",
   "metadata": {},
   "outputs": [],
   "source": [
    "dataset.dropna(subset=['HbA1c_level'], inplace=True)"
   ]
  },
  {
   "cell_type": "code",
   "execution_count": 17,
   "id": "e09b8591-171a-4916-9073-a58456a8acb8",
   "metadata": {},
   "outputs": [
    {
     "data": {
      "text/plain": [
       "(99998, 9)"
      ]
     },
     "execution_count": 17,
     "metadata": {},
     "output_type": "execute_result"
    }
   ],
   "source": [
    "dataset.shape"
   ]
  },
  {
   "cell_type": "code",
   "execution_count": 18,
   "id": "6b976f02-a7f8-413e-98e9-c4831cec533b",
   "metadata": {},
   "outputs": [
    {
     "name": "stdout",
     "output_type": "stream",
     "text": [
      "gender                 0\n",
      "age                    0\n",
      "hypertension           0\n",
      "heart_disease          0\n",
      "smoking_history        0\n",
      "bmi                    0\n",
      "HbA1c_level            0\n",
      "blood_glucose_level    0\n",
      "diabetes               0\n",
      "dtype: int64\n"
     ]
    }
   ],
   "source": [
    "print (dataset.isnull().sum())"
   ]
  },
  {
   "cell_type": "markdown",
   "id": "a898ba5e-9c10-491f-a1e9-0772cc44b9b3",
   "metadata": {},
   "source": [
    "# fix duplicated data in dataset"
   ]
  },
  {
   "cell_type": "code",
   "execution_count": 19,
   "id": "e9c32cfb-1f77-4f94-9c1e-131ed9ef319e",
   "metadata": {},
   "outputs": [
    {
     "name": "stdout",
     "output_type": "stream",
     "text": [
      "0\n"
     ]
    }
   ],
   "source": [
    "print (dataset.duplicated().sum())"
   ]
  },
  {
   "cell_type": "markdown",
   "id": "2bdef759-63b3-4c72-82c1-d0e4dd8b36c2",
   "metadata": {},
   "source": [
    "# fix outliers data in dataset"
   ]
  },
  {
   "cell_type": "code",
   "execution_count": 20,
   "id": "aa7731cf-cc07-4975-a78a-1318a46d1c54",
   "metadata": {},
   "outputs": [
    {
     "name": "stdout",
     "output_type": "stream",
     "text": [
      "0\n"
     ]
    }
   ],
   "source": [
    "Q1 = dataset['age'].quantile(0.25)\n",
    "Q3 = dataset['age'].quantile(0.75)\n",
    "\n",
    "IQR = Q3 - Q1\n",
    "\n",
    "lower_bound = Q1 - 1.5 * IQR\n",
    "upper_bound = Q3 + 1.5 * IQR\n",
    "\n",
    "outliers = dataset[(dataset['age'] < lower_bound) | (dataset['age'] > upper_bound)]\n",
    "print (len(outliers))"
   ]
  },
  {
   "cell_type": "markdown",
   "id": "f06e2810",
   "metadata": {},
   "source": [
    "# Body Mass Index (BMI)"
   ]
  },
  {
   "cell_type": "code",
   "execution_count": 21,
   "id": "91454273-a863-46d5-a406-0d44c11b5bae",
   "metadata": {},
   "outputs": [
    {
     "data": {
      "image/png": "[encoded data removed]",
      "text/plain": [
       "<Figure size 640x480 with 1 Axes>"
      ]
     },
     "metadata": {},
     "output_type": "display_data"
    }
   ],
   "source": [
    "import seaborn as sns \n",
    "import matplotlib.pyplot as plt\n",
    "\n",
    "sns.boxplot(x = dataset['bmi'])\n",
    "plt.show()"
   ]
  },
  {
   "cell_type": "code",
   "execution_count": 22,
   "id": "bf536427",
   "metadata": {},
   "outputs": [
    {
     "name": "stdout",
     "output_type": "stream",
     "text": [
      "count: 5198\n"
     ]
    }
   ],
   "source": [
    "\n",
    "Q1 = dataset['bmi'].quantile(0.25)\n",
    "Q3 = dataset['bmi'].quantile(0.75)\n",
    "IQR = Q3 - Q1\n",
    "\n",
    "outliers = dataset[(dataset['bmi'] < (Q1 - 1.5 * IQR)) | (dataset['bmi'] > (Q3 + 1.5 * IQR))]\n",
    "\n",
    "num_outliers = len(outliers)\n",
    "print(f\"count: {num_outliers}\")"
   ]
  },
  {
   "cell_type": "code",
   "execution_count": 23,
   "id": "4ddaf177",
   "metadata": {},
   "outputs": [
    {
     "name": "stdout",
     "output_type": "stream",
     "text": [
      "+---+---------+------+--------------+---------------+-----------------+-------------+-------------+---------------------+----------+\n",
      "|   | gender  | age  | hypertension | heart_disease | smoking_history |     bmi     | HbA1c_level | blood_glucose_level | diabetes |\n",
      "+---+---------+------+--------------+---------------+-----------------+-------------+-------------+---------------------+----------+\n",
      "| 0 | unknown | 78.0 |      0       |       1       |      never      | 101.6650153 |     6.6     |         140         |    0     |\n",
      "| 2 |  Male   | 28.0 |      0       |       0       |     No Info     | 25.36915222 |     5.7     |        9999         |    0     |\n",
      "| 4 |  Male   | 75.0 |      1       |       1       |     current     | 23.21281117 |     4.8     |         155         |    0     |\n",
      "| 5 | Female  | 16.0 |      0       |       0       |      never      | 28.15637322 |     6.6     |         85          |    0     |\n",
      "| 6 | Female  | 46.0 |      0       |       0       |      never      | 16.54644949 |     6.5     |         200         |    1     |\n",
      "+---+---------+------+--------------+---------------+-----------------+-------------+-------------+---------------------+----------+\n"
     ]
    }
   ],
   "source": [
    "print(tabulate(dataset.head(), headers='keys', tablefmt='pretty'))"
   ]
  },
  {
   "cell_type": "markdown",
   "id": "946519b1",
   "metadata": {},
   "source": [
    "# Delete Rows Bmi more than 60 and less than 10"
   ]
  },
  {
   "cell_type": "code",
   "execution_count": 24,
   "id": "2de80fa3",
   "metadata": {},
   "outputs": [
    {
     "name": "stdout",
     "output_type": "stream",
     "text": [
      "194\n"
     ]
    }
   ],
   "source": [
    "cleaned_data = dataset[(dataset['bmi'] <= 10) | (dataset['bmi'] >= 60)]\n",
    "print (len(cleaned_data))"
   ]
  },
  {
   "cell_type": "code",
   "execution_count": 25,
   "id": "80d5418a",
   "metadata": {},
   "outputs": [
    {
     "name": "stdout",
     "output_type": "stream",
     "text": [
      "+---+---------+------+--------------+---------------+-----------------+-------------+-------------+---------------------+----------+\n",
      "|   | gender  | age  | hypertension | heart_disease | smoking_history |     bmi     | HbA1c_level | blood_glucose_level | diabetes |\n",
      "+---+---------+------+--------------+---------------+-----------------+-------------+-------------+---------------------+----------+\n",
      "| 0 | unknown | 78.0 |      0       |       1       |      never      | 101.6650153 |     6.6     |         140         |    0     |\n",
      "| 2 |  Male   | 28.0 |      0       |       0       |     No Info     | 25.36915222 |     5.7     |        9999         |    0     |\n",
      "| 4 |  Male   | 75.0 |      1       |       1       |     current     | 23.21281117 |     4.8     |         155         |    0     |\n",
      "| 5 | Female  | 16.0 |      0       |       0       |      never      | 28.15637322 |     6.6     |         85          |    0     |\n",
      "| 6 | Female  | 46.0 |      0       |       0       |      never      | 16.54644949 |     6.5     |         200         |    1     |\n",
      "+---+---------+------+--------------+---------------+-----------------+-------------+-------------+---------------------+----------+\n"
     ]
    }
   ],
   "source": [
    "print(tabulate(dataset.head(), headers='keys', tablefmt='pretty'))"
   ]
  },
  {
   "cell_type": "markdown",
   "id": "4d59643f",
   "metadata": {},
   "source": [
    "# Replace Rows Bmi more than 60 and less than 10 by Median"
   ]
  },
  {
   "cell_type": "code",
   "execution_count": 26,
   "id": "b0a99cac",
   "metadata": {},
   "outputs": [
    {
     "name": "stdout",
     "output_type": "stream",
     "text": [
      "count    99998.000000\n",
      "mean        27.281647\n",
      "std          6.772322\n",
      "min         10.008687\n",
      "25%         23.398534\n",
      "50%         26.964728\n",
      "75%         30.253014\n",
      "max         59.876944\n",
      "Name: bmi, dtype: float64\n"
     ]
    }
   ],
   "source": [
    "median_bmi = dataset['bmi'].median()\n",
    "\n",
    "dataset.loc[(dataset['bmi'] <= 10) | (dataset['bmi'] >= 60), 'bmi'] = median_bmi\n",
    "print(dataset['bmi'].describe())"
   ]
  },
  {
   "cell_type": "code",
   "execution_count": 27,
   "id": "93b8f876",
   "metadata": {},
   "outputs": [
    {
     "name": "stdout",
     "output_type": "stream",
     "text": [
      "26.964728185\n"
     ]
    }
   ],
   "source": [
    "print (median_bmi)"
   ]
  },
  {
   "cell_type": "code",
   "execution_count": 28,
   "id": "bcd0f8dc",
   "metadata": {},
   "outputs": [
    {
     "name": "stdout",
     "output_type": "stream",
     "text": [
      "+---+---------+------+--------------+---------------+-----------------+--------------+-------------+---------------------+----------+\n",
      "|   | gender  | age  | hypertension | heart_disease | smoking_history |     bmi      | HbA1c_level | blood_glucose_level | diabetes |\n",
      "+---+---------+------+--------------+---------------+-----------------+--------------+-------------+---------------------+----------+\n",
      "| 0 | unknown | 78.0 |      0       |       1       |      never      | 26.964728185 |     6.6     |         140         |    0     |\n",
      "| 2 |  Male   | 28.0 |      0       |       0       |     No Info     | 25.36915222  |     5.7     |        9999         |    0     |\n",
      "| 4 |  Male   | 75.0 |      1       |       1       |     current     | 23.21281117  |     4.8     |         155         |    0     |\n",
      "| 5 | Female  | 16.0 |      0       |       0       |      never      | 28.15637322  |     6.6     |         85          |    0     |\n",
      "| 6 | Female  | 46.0 |      0       |       0       |      never      | 16.54644949  |     6.5     |         200         |    1     |\n",
      "+---+---------+------+--------------+---------------+-----------------+--------------+-------------+---------------------+----------+\n"
     ]
    }
   ],
   "source": [
    "print(tabulate(dataset.head(), headers='keys', tablefmt='pretty'))"
   ]
  },
  {
   "cell_type": "code",
   "execution_count": 29,
   "id": "99233862",
   "metadata": {},
   "outputs": [
    {
     "data": {
      "image/png": "[encoded data removed]",
      "text/plain": [
       "<Figure size 640x480 with 1 Axes>"
      ]
     },
     "metadata": {},
     "output_type": "display_data"
    }
   ],
   "source": [
    "sns.boxplot(x = dataset['bmi'])\n",
    "plt.show()"
   ]
  },
  {
   "cell_type": "markdown",
   "id": "783eefd2",
   "metadata": {},
   "source": [
    "# Age Column Outliers"
   ]
  },
  {
   "cell_type": "code",
   "execution_count": 30,
   "id": "349d7d7f",
   "metadata": {},
   "outputs": [
    {
     "data": {
      "image/png": "[encoded data removed]",
      "text/plain": [
       "<Figure size 640x480 with 1 Axes>"
      ]
     },
     "metadata": {},
     "output_type": "display_data"
    }
   ],
   "source": [
    "sns.boxplot(x = dataset['age'])\n",
    "plt.show()"
   ]
  },
  {
   "cell_type": "code",
   "execution_count": 31,
   "id": "d1e0d9dd",
   "metadata": {},
   "outputs": [
    {
     "name": "stdout",
     "output_type": "stream",
     "text": [
      "1941\n"
     ]
    }
   ],
   "source": [
    "age_data = dataset[(dataset['age'] <= 0)]\n",
    "print (len(age_data))"
   ]
  },
  {
   "cell_type": "markdown",
   "id": "aad0ebf8",
   "metadata": {},
   "source": [
    "# Normal Distribution"
   ]
  },
  {
   "cell_type": "markdown",
   "id": "883136ee",
   "metadata": {},
   "source": [
    "#### Histogram Plot"
   ]
  },
  {
   "cell_type": "code",
   "execution_count": 32,
   "id": "f9db745d",
   "metadata": {},
   "outputs": [
    {
     "data": {
      "image/png": "[encoded data removed]",
      "text/plain": [
       "<Figure size 640x480 with 1 Axes>"
      ]
     },
     "metadata": {},
     "output_type": "display_data"
    }
   ],
   "source": [
    "sns.histplot(dataset['age'], kde=True)\n",
    "plt.title(\"age distribution\")\n",
    "plt.show()"
   ]
  },
  {
   "cell_type": "markdown",
   "id": "859bbc20",
   "metadata": {},
   "source": [
    "#### Quantile-Quantile Plot"
   ]
  },
  {
   "cell_type": "code",
   "execution_count": 33,
   "id": "8635b45f",
   "metadata": {},
   "outputs": [
    {
     "data": {
      "image/png": "[encoded data removed]",
      "text/plain": [
       "<Figure size 640x480 with 1 Axes>"
      ]
     },
     "metadata": {},
     "output_type": "display_data"
    }
   ],
   "source": [
    "import scipy.stats as stats\n",
    "\n",
    "stats.probplot(dataset['age'], dist=\"norm\", plot=plt)\n",
    "plt.title('ًQ_Q plate for age')\n",
    "plt.show()"
   ]
  },
  {
   "cell_type": "markdown",
   "id": "c158f971",
   "metadata": {},
   "source": [
    "# Use Median for age"
   ]
  },
  {
   "cell_type": "code",
   "execution_count": 34,
   "id": "4f95de11",
   "metadata": {},
   "outputs": [
    {
     "name": "stdout",
     "output_type": "stream",
     "text": [
      "count    99998.000000\n",
      "mean        42.238528\n",
      "std         21.846147\n",
      "min          0.080000\n",
      "25%         25.000000\n",
      "50%         42.000000\n",
      "75%         59.000000\n",
      "max         84.000000\n",
      "Name: age, dtype: float64\n"
     ]
    }
   ],
   "source": [
    "median_age = dataset['age'].median()\n",
    "dataset.loc[(dataset['age'] <= 0) , 'age'] = median_age\n",
    "print (dataset['age'].describe())"
   ]
  },
  {
   "cell_type": "code",
   "execution_count": 35,
   "id": "452269b9",
   "metadata": {},
   "outputs": [
    {
     "data": {
      "image/png": "[encoded data removed]",
      "text/plain": [
       "<Figure size 640x480 with 1 Axes>"
      ]
     },
     "metadata": {},
     "output_type": "display_data"
    }
   ],
   "source": [
    "sns.histplot(dataset['age'], kde=True)\n",
    "plt.title(\"age distribution\")\n",
    "plt.show()"
   ]
  },
  {
   "cell_type": "code",
   "execution_count": 36,
   "id": "eb98db36",
   "metadata": {},
   "outputs": [
    {
     "data": {
      "image/png": "[encoded data removed]",
      "text/plain": [
       "<Figure size 640x480 with 1 Axes>"
      ]
     },
     "metadata": {},
     "output_type": "display_data"
    }
   ],
   "source": [
    "sns.boxplot(x = dataset['age'])\n",
    "plt.show()"
   ]
  },
  {
   "cell_type": "markdown",
   "id": "24fde964",
   "metadata": {},
   "source": [
    "# Float data for Age fixed"
   ]
  },
  {
   "cell_type": "code",
   "execution_count": 37,
   "id": "c09e59e9",
   "metadata": {},
   "outputs": [
    {
     "name": "stdout",
     "output_type": "stream",
     "text": [
      "1157\n"
     ]
    }
   ],
   "source": [
    "decimal_values = dataset[dataset['age'] % 1 != 0]\n",
    "\n",
    "print(len(decimal_values))"
   ]
  },
  {
   "cell_type": "code",
   "execution_count": 38,
   "id": "9102468b",
   "metadata": {},
   "outputs": [],
   "source": [
    "dataset['age'] = dataset['age'].round().astype(int)"
   ]
  },
  {
   "cell_type": "code",
   "execution_count": 39,
   "id": "f2debcb7",
   "metadata": {},
   "outputs": [
    {
     "name": "stdout",
     "output_type": "stream",
     "text": [
      "0\n"
     ]
    }
   ],
   "source": [
    "print (len(dataset[dataset['age'] % 1 != 0]))"
   ]
  },
  {
   "cell_type": "code",
   "execution_count": 40,
   "id": "f5e3e8ac",
   "metadata": {},
   "outputs": [
    {
     "data": {
      "image/png": "[encoded data removed]",
      "text/plain": [
       "<Figure size 640x480 with 1 Axes>"
      ]
     },
     "metadata": {},
     "output_type": "display_data"
    }
   ],
   "source": [
    "sns.histplot(dataset['age'], kde=True)\n",
    "plt.title(\"age distribution\")\n",
    "plt.show()"
   ]
  },
  {
   "cell_type": "code",
   "execution_count": 41,
   "id": "d2ff3f12",
   "metadata": {},
   "outputs": [
    {
     "name": "stdout",
     "output_type": "stream",
     "text": [
      "+---+---------+-----+--------------+---------------+-----------------+--------------+-------------+---------------------+----------+\n",
      "|   | gender  | age | hypertension | heart_disease | smoking_history |     bmi      | HbA1c_level | blood_glucose_level | diabetes |\n",
      "+---+---------+-----+--------------+---------------+-----------------+--------------+-------------+---------------------+----------+\n",
      "| 0 | unknown | 78  |      0       |       1       |      never      | 26.964728185 |     6.6     |         140         |    0     |\n",
      "| 2 |  Male   | 28  |      0       |       0       |     No Info     | 25.36915222  |     5.7     |        9999         |    0     |\n",
      "| 4 |  Male   | 75  |      1       |       1       |     current     | 23.21281117  |     4.8     |         155         |    0     |\n",
      "| 5 | Female  | 16  |      0       |       0       |      never      | 28.15637322  |     6.6     |         85          |    0     |\n",
      "| 6 | Female  | 46  |      0       |       0       |      never      | 16.54644949  |     6.5     |         200         |    1     |\n",
      "+---+---------+-----+--------------+---------------+-----------------+--------------+-------------+---------------------+----------+\n"
     ]
    }
   ],
   "source": [
    "print(tabulate(dataset.head(), headers='keys', tablefmt='pretty'))"
   ]
  },
  {
   "cell_type": "markdown",
   "id": "e71f7577",
   "metadata": {},
   "source": [
    "# Analyze blood_glucose_level column"
   ]
  },
  {
   "cell_type": "code",
   "execution_count": 42,
   "id": "cd28ce9c",
   "metadata": {},
   "outputs": [
    {
     "data": {
      "image/png": "[encoded data removed]",
      "text/plain": [
       "<Figure size 640x480 with 1 Axes>"
      ]
     },
     "metadata": {},
     "output_type": "display_data"
    }
   ],
   "source": [
    "sns.boxplot(x = dataset['blood_glucose_level'])\n",
    "plt.show()"
   ]
  },
  {
   "cell_type": "code",
   "execution_count": 43,
   "id": "baf3a5a1",
   "metadata": {},
   "outputs": [
    {
     "name": "stdout",
     "output_type": "stream",
     "text": [
      "138.15688313766276\n"
     ]
    }
   ],
   "source": [
    "mean_blood_glucose_level = dataset['blood_glucose_level'].mean()\n",
    "print (mean_blood_glucose_level)"
   ]
  },
  {
   "cell_type": "code",
   "execution_count": 44,
   "id": "4721287a",
   "metadata": {},
   "outputs": [
    {
     "data": {
      "image/png": "[encoded data removed]",
      "text/plain": [
       "<Figure size 640x480 with 1 Axes>"
      ]
     },
     "metadata": {},
     "output_type": "display_data"
    }
   ],
   "source": [
    "sns.histplot(dataset['blood_glucose_level'], kde=True)\n",
    "plt.title(\"blood_glucose_level distribution\")\n",
    "plt.show()"
   ]
  },
  {
   "cell_type": "markdown",
   "id": "d1b162f7",
   "metadata": {},
   "source": [
    "# Delete Outliers Data "
   ]
  },
  {
   "cell_type": "code",
   "execution_count": 45,
   "id": "a8d8df24",
   "metadata": {},
   "outputs": [
    {
     "data": {
      "image/png": "[encoded data removed]",
      "text/plain": [
       "<Figure size 640x480 with 1 Axes>"
      ]
     },
     "metadata": {},
     "output_type": "display_data"
    }
   ],
   "source": [
    "sns.boxplot(x = dataset['blood_glucose_level'])\n",
    "plt.show()"
   ]
  },
  {
   "cell_type": "code",
   "execution_count": 46,
   "id": "9dad56ec",
   "metadata": {},
   "outputs": [
    {
     "name": "stdout",
     "output_type": "stream",
     "text": [
      "(99998, 9)\n"
     ]
    }
   ],
   "source": [
    "print (dataset.shape)"
   ]
  },
  {
   "cell_type": "code",
   "execution_count": 48,
   "id": "c75afcb2",
   "metadata": {},
   "outputs": [
    {
     "name": "stdout",
     "output_type": "stream",
     "text": [
      "    gender  age  hypertension  ...  HbA1c_level blood_glucose_level  diabetes\n",
      "0  unknown   78             0  ...          6.6                 140         0\n",
      "4     Male   75             1  ...          4.8                 155         0\n",
      "5   Female   16             0  ...          6.6                  85         0\n",
      "6   Female   46             0  ...          6.5                 200         1\n",
      "7   Female   82             0  ...          5.7                  85         0\n",
      "\n",
      "[5 rows x 9 columns]\n"
     ]
    },
    {
     "data": {
      "image/png": "[encoded data removed]",
      "text/plain": [
       "<Figure size 640x480 with 1 Axes>"
      ]
     },
     "metadata": {},
     "output_type": "display_data"
    },
    {
     "name": "stdout",
     "output_type": "stream",
     "text": [
      "(99997, 9)\n"
     ]
    }
   ],
   "source": [
    "dataset = dataset[dataset['blood_glucose_level'] != 9999]\n",
    "\n",
    "print(dataset.head())\n",
    "\n",
    "import seaborn as sns\n",
    "import matplotlib.pyplot as plt\n",
    "\n",
    "sns.boxplot(x=dataset['blood_glucose_level'], color=\"skyblue\", width=0.5)\n",
    "plt.title('Blood Glucose Level Distribution (Filtered)')\n",
    "plt.xlabel('Blood Glucose Level')\n",
    "plt.show()\n",
    "\n",
    "print (dataset.shape)"
   ]
  },
  {
   "cell_type": "code",
   "execution_count": 49,
   "id": "89a30046",
   "metadata": {},
   "outputs": [
    {
     "data": {
      "image/png": "[encoded data removed]",
      "text/plain": [
       "<Figure size 640x480 with 1 Axes>"
      ]
     },
     "metadata": {},
     "output_type": "display_data"
    }
   ],
   "source": [
    "sns.boxplot(x = dataset['blood_glucose_level'])\n",
    "plt.show()"
   ]
  },
  {
   "cell_type": "code",
   "execution_count": 50,
   "id": "8ab754fc",
   "metadata": {},
   "outputs": [
    {
     "name": "stdout",
     "output_type": "stream",
     "text": [
      "+---+---------+-----+--------------+---------------+-----------------+--------------+-------------+---------------------+----------+\n",
      "|   | gender  | age | hypertension | heart_disease | smoking_history |     bmi      | HbA1c_level | blood_glucose_level | diabetes |\n",
      "+---+---------+-----+--------------+---------------+-----------------+--------------+-------------+---------------------+----------+\n",
      "| 0 | unknown | 78  |      0       |       1       |      never      | 26.964728185 |     6.6     |         140         |    0     |\n",
      "| 4 |  Male   | 75  |      1       |       1       |     current     | 23.21281117  |     4.8     |         155         |    0     |\n",
      "| 5 | Female  | 16  |      0       |       0       |      never      | 28.15637322  |     6.6     |         85          |    0     |\n",
      "| 6 | Female  | 46  |      0       |       0       |      never      | 16.54644949  |     6.5     |         200         |    1     |\n",
      "| 7 | Female  | 82  |      0       |       0       |     No Info     | 25.62135532  |     5.7     |         85          |    0     |\n",
      "+---+---------+-----+--------------+---------------+-----------------+--------------+-------------+---------------------+----------+\n"
     ]
    }
   ],
   "source": [
    "print(tabulate(dataset.head(), headers='keys', tablefmt='pretty'))"
   ]
  },
  {
   "cell_type": "code",
   "execution_count": 51,
   "id": "46a51532",
   "metadata": {},
   "outputs": [
    {
     "name": "stdout",
     "output_type": "stream",
     "text": [
      "138.05827174815244\n"
     ]
    }
   ],
   "source": [
    "mean_blood_glucose_level = dataset['blood_glucose_level'].mean()\n",
    "print (mean_blood_glucose_level)"
   ]
  },
  {
   "cell_type": "code",
   "execution_count": 52,
   "id": "6c40f8d9",
   "metadata": {},
   "outputs": [
    {
     "data": {
      "image/png": "[encoded data removed]",
      "text/plain": [
       "<Figure size 640x480 with 1 Axes>"
      ]
     },
     "metadata": {},
     "output_type": "display_data"
    }
   ],
   "source": [
    "sns.histplot(dataset['blood_glucose_level'], kde=True)\n",
    "plt.title(\"blood_glucose_level distribution\")\n",
    "plt.show()"
   ]
  },
  {
   "cell_type": "code",
   "execution_count": 53,
   "id": "d8fbbd1d",
   "metadata": {},
   "outputs": [
    {
     "data": {
      "image/png": "[encoded data removed]",
      "text/plain": [
       "<Figure size 640x480 with 1 Axes>"
      ]
     },
     "metadata": {},
     "output_type": "display_data"
    }
   ],
   "source": [
    "sns.boxplot(x = dataset['blood_glucose_level'])\n",
    "plt.show()"
   ]
  },
  {
   "cell_type": "markdown",
   "id": "0c32fca2",
   "metadata": {},
   "source": [
    "# HbA1c_level column Analyze "
   ]
  },
  {
   "cell_type": "code",
   "execution_count": 54,
   "id": "a28ba7b2",
   "metadata": {},
   "outputs": [
    {
     "data": {
      "image/png": "[encoded data removed]",
      "text/plain": [
       "<Figure size 640x480 with 1 Axes>"
      ]
     },
     "metadata": {},
     "output_type": "display_data"
    }
   ],
   "source": [
    "sns.boxplot(x = dataset['HbA1c_level'])\n",
    "plt.show()"
   ]
  },
  {
   "cell_type": "code",
   "execution_count": 55,
   "id": "f787b5e5",
   "metadata": {},
   "outputs": [
    {
     "name": "stdout",
     "output_type": "stream",
     "text": [
      "0\n"
     ]
    }
   ],
   "source": [
    "HbA1c_level_data = dataset[(dataset['HbA1c_level'] <= 0)]\n",
    "print (len(HbA1c_level_data))"
   ]
  },
  {
   "cell_type": "markdown",
   "id": "8656d909",
   "metadata": {},
   "source": [
    "# Check for Heart_Disease"
   ]
  },
  {
   "cell_type": "code",
   "execution_count": 56,
   "id": "916a2a3d",
   "metadata": {},
   "outputs": [
    {
     "data": {
      "image/png": "[encoded data removed]",
      "text/plain": [
       "<Figure size 640x480 with 1 Axes>"
      ]
     },
     "metadata": {},
     "output_type": "display_data"
    }
   ],
   "source": [
    "sns.boxplot(x = dataset['heart_disease'])\n",
    "plt.show()"
   ]
  },
  {
   "cell_type": "code",
   "execution_count": 57,
   "id": "ca9a770a",
   "metadata": {},
   "outputs": [
    {
     "name": "stdout",
     "output_type": "stream",
     "text": [
      "print: 0\n"
     ]
    }
   ],
   "source": [
    "invalid_count = len(dataset[~dataset['heart_disease'].isin([0, 1])])\n",
    "\n",
    "print(f\"print: {invalid_count}\")"
   ]
  },
  {
   "cell_type": "code",
   "execution_count": 58,
   "id": "c4664d96",
   "metadata": {},
   "outputs": [
    {
     "data": {
      "image/png": "[encoded data removed]",
      "text/plain": [
       "<Figure size 640x480 with 1 Axes>"
      ]
     },
     "metadata": {},
     "output_type": "display_data"
    }
   ],
   "source": [
    "sns.histplot(dataset['diabetes'], kde=True)\n",
    "plt.title(\"diabetes distribution\")\n",
    "plt.show()"
   ]
  },
  {
   "cell_type": "code",
   "execution_count": 59,
   "id": "3b62cea0",
   "metadata": {},
   "outputs": [
    {
     "data": {
      "image/png": "[encoded data removed]",
      "text/plain": [
       "<Figure size 640x480 with 1 Axes>"
      ]
     },
     "metadata": {},
     "output_type": "display_data"
    }
   ],
   "source": [
    "sns.histplot(dataset['heart_disease'], kde=True)\n",
    "plt.title(\"heart_disease distribution\")\n",
    "plt.show()"
   ]
  },
  {
   "cell_type": "markdown",
   "id": "0c2cb91c",
   "metadata": {},
   "source": [
    "# check for hypertension"
   ]
  },
  {
   "cell_type": "code",
   "execution_count": 60,
   "id": "499fcc19",
   "metadata": {},
   "outputs": [
    {
     "data": {
      "image/png": "[encoded data removed]",
      "text/plain": [
       "<Figure size 640x480 with 1 Axes>"
      ]
     },
     "metadata": {},
     "output_type": "display_data"
    }
   ],
   "source": [
    "sns.boxplot(x = dataset['hypertension'])\n",
    "plt.show()"
   ]
  },
  {
   "cell_type": "code",
   "execution_count": 61,
   "id": "3516b5a9",
   "metadata": {},
   "outputs": [
    {
     "name": "stdout",
     "output_type": "stream",
     "text": [
      "print: 0\n"
     ]
    }
   ],
   "source": [
    "invalid_count = len(dataset[~dataset['hypertension'].isin([0, 1])])\n",
    "\n",
    "print(f\"print: {invalid_count}\")"
   ]
  },
  {
   "cell_type": "code",
   "execution_count": 62,
   "id": "7afd8fa8",
   "metadata": {},
   "outputs": [
    {
     "data": {
      "image/png": "[encoded data removed]",
      "text/plain": [
       "<Figure size 640x480 with 1 Axes>"
      ]
     },
     "metadata": {},
     "output_type": "display_data"
    }
   ],
   "source": [
    "sns.histplot(dataset['hypertension'], kde=True)\n",
    "plt.title(\"hypertension distribution\")\n",
    "plt.show()"
   ]
  },
  {
   "cell_type": "code",
   "execution_count": 63,
   "id": "42d65c96",
   "metadata": {},
   "outputs": [
    {
     "name": "stdout",
     "output_type": "stream",
     "text": [
      "(99997, 9)\n"
     ]
    }
   ],
   "source": [
    "print (dataset.shape)"
   ]
  },
  {
   "cell_type": "markdown",
   "id": "c908e7d7",
   "metadata": {},
   "source": [
    "# Classification algorithms and their comparison"
   ]
  },
  {
   "cell_type": "markdown",
   "id": "4cfac78b",
   "metadata": {},
   "source": [
    "#### Train , Test and Validation Data"
   ]
  },
  {
   "cell_type": "code",
   "execution_count": 92,
   "id": "4e7f7c9c",
   "metadata": {},
   "outputs": [],
   "source": [
    "from sklearn.model_selection import train_test_split\n",
    "from sklearn.preprocessing import StandardScaler"
   ]
  },
  {
   "cell_type": "code",
   "execution_count": 93,
   "id": "684d7a51",
   "metadata": {},
   "outputs": [],
   "source": [
    "x = dataset.drop(\"diabetes\" , axis=1) # dataset without \"diabetes\"\n",
    "y = dataset[\"diabetes\"] # dataset column diabets"
   ]
  },
  {
   "cell_type": "code",
   "execution_count": 94,
   "id": "e6471f71",
   "metadata": {},
   "outputs": [
    {
     "name": "stdout",
     "output_type": "stream",
     "text": [
      "(99997, 8)\n"
     ]
    }
   ],
   "source": [
    "print (x.shape)"
   ]
  },
  {
   "cell_type": "code",
   "execution_count": 95,
   "id": "729ca9fa",
   "metadata": {},
   "outputs": [
    {
     "name": "stdout",
     "output_type": "stream",
     "text": [
      "(99997,)\n"
     ]
    }
   ],
   "source": [
    "print (y.shape)"
   ]
  },
  {
   "cell_type": "markdown",
   "id": "ff295b17",
   "metadata": {},
   "source": [
    "#### Split data by train+validation and test"
   ]
  },
  {
   "cell_type": "markdown",
   "id": "9e5a8308",
   "metadata": {},
   "source": [
    "# # Normalization"
   ]
  },
  {
   "cell_type": "code",
   "execution_count": 96,
   "id": "5ad25366",
   "metadata": {},
   "outputs": [],
   "source": [
    "from sklearn.preprocessing import StandardScaler\n",
    "\n",
    "scaler = StandardScaler()"
   ]
  },
  {
   "cell_type": "markdown",
   "id": "a87bd971",
   "metadata": {},
   "source": [
    "#### LabelEncoder "
   ]
  },
  {
   "cell_type": "code",
   "execution_count": 97,
   "id": "2959434c",
   "metadata": {},
   "outputs": [
    {
     "data": {
      "image/png": "[encoded data removed]",
      "text/plain": [
       "<Figure size 640x480 with 1 Axes>"
      ]
     },
     "metadata": {},
     "output_type": "display_data"
    }
   ],
   "source": [
    "sns.histplot(dataset['gender'], kde=True)\n",
    "plt.title(\"gender distribution\")\n",
    "plt.show()"
   ]
  },
  {
   "cell_type": "code",
   "execution_count": 98,
   "id": "79515f81",
   "metadata": {},
   "outputs": [
    {
     "data": {
      "image/png": "[encoded data removed]",
      "text/plain": [
       "<Figure size 640x480 with 1 Axes>"
      ]
     },
     "metadata": {},
     "output_type": "display_data"
    }
   ],
   "source": [
    "sns.boxplot(x = dataset['gender'])\n",
    "plt.show()"
   ]
  },
  {
   "cell_type": "code",
   "execution_count": 101,
   "id": "ca9d7e0a",
   "metadata": {},
   "outputs": [
    {
     "name": "stdout",
     "output_type": "stream",
     "text": [
      "+---+--------+-----+--------------+---------------+-----------------+-----+-------------+---------------------+----------+\n",
      "|   | gender | age | hypertension | heart_disease | smoking_history | bmi | HbA1c_level | blood_glucose_level | diabetes |\n",
      "+---+--------+-----+--------------+---------------+-----------------+-----+-------------+---------------------+----------+\n",
      "| 0 |   3    | 78  |      0       |       1       |        4        | 26  |      6      |         140         |    0     |\n",
      "| 4 |   1    | 75  |      1       |       1       |        1        | 23  |      4      |         155         |    0     |\n",
      "| 5 |   0    | 16  |      0       |       0       |        4        | 28  |      6      |         85          |    0     |\n",
      "| 6 |   0    | 46  |      0       |       0       |        4        | 16  |      6      |         200         |    1     |\n",
      "| 7 |   0    | 82  |      0       |       0       |        0        | 25  |      5      |         85          |    0     |\n",
      "+---+--------+-----+--------------+---------------+-----------------+-----+-------------+---------------------+----------+\n"
     ]
    }
   ],
   "source": [
    "print(tabulate(dataset.head(), headers='keys', tablefmt='pretty'))"
   ]
  },
  {
   "cell_type": "code",
   "execution_count": 102,
   "id": "220a20f9",
   "metadata": {},
   "outputs": [],
   "source": [
    "from sklearn.preprocessing import LabelEncoder\n",
    "\n",
    "encoder = LabelEncoder()\n",
    "\n",
    "dataset['smoking_history'] = encoder.fit_transform(dataset['smoking_history'])"
   ]
  },
  {
   "cell_type": "code",
   "execution_count": 103,
   "id": "00dee7c7",
   "metadata": {},
   "outputs": [
    {
     "name": "stdout",
     "output_type": "stream",
     "text": [
      "+---+--------+-----+--------------+---------------+-----------------+-----+-------------+---------------------+----------+\n",
      "|   | gender | age | hypertension | heart_disease | smoking_history | bmi | HbA1c_level | blood_glucose_level | diabetes |\n",
      "+---+--------+-----+--------------+---------------+-----------------+-----+-------------+---------------------+----------+\n",
      "| 0 |   3    | 78  |      0       |       1       |        4        | 26  |      6      |         140         |    0     |\n",
      "| 4 |   1    | 75  |      1       |       1       |        1        | 23  |      4      |         155         |    0     |\n",
      "| 5 |   0    | 16  |      0       |       0       |        4        | 28  |      6      |         85          |    0     |\n",
      "| 6 |   0    | 46  |      0       |       0       |        4        | 16  |      6      |         200         |    1     |\n",
      "| 7 |   0    | 82  |      0       |       0       |        0        | 25  |      5      |         85          |    0     |\n",
      "+---+--------+-----+--------------+---------------+-----------------+-----+-------------+---------------------+----------+\n"
     ]
    }
   ],
   "source": [
    "print(tabulate(dataset.head(), headers='keys', tablefmt='pretty'))"
   ]
  },
  {
   "cell_type": "code",
   "execution_count": 104,
   "id": "e8c905e0",
   "metadata": {},
   "outputs": [],
   "source": [
    "from sklearn.preprocessing import LabelEncoder\n",
    "\n",
    "encoder = LabelEncoder()\n",
    "\n",
    "dataset['gender'] = encoder.fit_transform(dataset['gender'])"
   ]
  },
  {
   "cell_type": "code",
   "execution_count": 105,
   "id": "f55d1a1a",
   "metadata": {},
   "outputs": [
    {
     "name": "stdout",
     "output_type": "stream",
     "text": [
      "+---+--------+-----+--------------+---------------+-----------------+-----+-------------+---------------------+----------+\n",
      "|   | gender | age | hypertension | heart_disease | smoking_history | bmi | HbA1c_level | blood_glucose_level | diabetes |\n",
      "+---+--------+-----+--------------+---------------+-----------------+-----+-------------+---------------------+----------+\n",
      "| 0 |   3    | 78  |      0       |       1       |        4        | 26  |      6      |         140         |    0     |\n",
      "| 4 |   1    | 75  |      1       |       1       |        1        | 23  |      4      |         155         |    0     |\n",
      "| 5 |   0    | 16  |      0       |       0       |        4        | 28  |      6      |         85          |    0     |\n",
      "| 6 |   0    | 46  |      0       |       0       |        4        | 16  |      6      |         200         |    1     |\n",
      "| 7 |   0    | 82  |      0       |       0       |        0        | 25  |      5      |         85          |    0     |\n",
      "+---+--------+-----+--------------+---------------+-----------------+-----+-------------+---------------------+----------+\n"
     ]
    }
   ],
   "source": [
    "print(tabulate(dataset.head(), headers='keys', tablefmt='pretty'))"
   ]
  },
  {
   "cell_type": "markdown",
   "id": "43277749",
   "metadata": {},
   "source": [
    "# smoking_history"
   ]
  },
  {
   "cell_type": "code",
   "execution_count": 106,
   "id": "3cbcb149",
   "metadata": {},
   "outputs": [
    {
     "data": {
      "image/png": "[encoded data removed]",
      "text/plain": [
       "<Figure size 640x480 with 1 Axes>"
      ]
     },
     "metadata": {},
     "output_type": "display_data"
    }
   ],
   "source": [
    "sns.histplot(dataset['smoking_history'], kde=True)\n",
    "plt.title(\"smoking_history distribution\")\n",
    "plt.show()"
   ]
  },
  {
   "cell_type": "markdown",
   "id": "011a64d4",
   "metadata": {},
   "source": [
    "# Normalization by MinMaxScaler"
   ]
  },
  {
   "cell_type": "code",
   "execution_count": 108,
   "id": "6b3485c2",
   "metadata": {},
   "outputs": [
    {
     "name": "stdout",
     "output_type": "stream",
     "text": [
      "+---+--------+-----+--------------+---------------+-----------------+-----+-------------+---------------------+----------+\n",
      "|   | gender | age | hypertension | heart_disease | smoking_history | bmi | HbA1c_level | blood_glucose_level | diabetes |\n",
      "+---+--------+-----+--------------+---------------+-----------------+-----+-------------+---------------------+----------+\n",
      "| 0 |   3    | 78  |      0       |       1       |        4        | 26  |      6      |         140         |    0     |\n",
      "| 4 |   1    | 75  |      1       |       1       |        1        | 23  |      4      |         155         |    0     |\n",
      "| 5 |   0    | 16  |      0       |       0       |        4        | 28  |      6      |         85          |    0     |\n",
      "| 6 |   0    | 46  |      0       |       0       |        4        | 16  |      6      |         200         |    1     |\n",
      "| 7 |   0    | 82  |      0       |       0       |        0        | 25  |      5      |         85          |    0     |\n",
      "+---+--------+-----+--------------+---------------+-----------------+-----+-------------+---------------------+----------+\n"
     ]
    }
   ],
   "source": [
    "print(tabulate(dataset.head(), headers='keys', tablefmt='pretty'))"
   ]
  },
  {
   "cell_type": "code",
   "execution_count": 109,
   "id": "b7e7f239",
   "metadata": {},
   "outputs": [],
   "source": [
    "dataset = dataset.astype(int)"
   ]
  },
  {
   "cell_type": "code",
   "execution_count": 110,
   "id": "1941147e",
   "metadata": {},
   "outputs": [
    {
     "name": "stdout",
     "output_type": "stream",
     "text": [
      "+---+--------+-----+--------------+---------------+-----------------+-----+-------------+---------------------+----------+\n",
      "|   | gender | age | hypertension | heart_disease | smoking_history | bmi | HbA1c_level | blood_glucose_level | diabetes |\n",
      "+---+--------+-----+--------------+---------------+-----------------+-----+-------------+---------------------+----------+\n",
      "| 0 |   3    | 78  |      0       |       1       |        4        | 26  |      6      |         140         |    0     |\n",
      "| 4 |   1    | 75  |      1       |       1       |        1        | 23  |      4      |         155         |    0     |\n",
      "| 5 |   0    | 16  |      0       |       0       |        4        | 28  |      6      |         85          |    0     |\n",
      "| 6 |   0    | 46  |      0       |       0       |        4        | 16  |      6      |         200         |    1     |\n",
      "| 7 |   0    | 82  |      0       |       0       |        0        | 25  |      5      |         85          |    0     |\n",
      "+---+--------+-----+--------------+---------------+-----------------+-----+-------------+---------------------+----------+\n"
     ]
    }
   ],
   "source": [
    "print(tabulate(dataset.head(), headers='keys', tablefmt='pretty'))"
   ]
  },
  {
   "cell_type": "markdown",
   "id": "e64e9fda",
   "metadata": {},
   "source": [
    "# Train Test Validation Data"
   ]
  },
  {
   "cell_type": "markdown",
   "id": "457196d7",
   "metadata": {},
   "source": [
    "#### Train , Test and Validation Data"
   ]
  },
  {
   "cell_type": "code",
   "execution_count": 111,
   "id": "b9aa77be",
   "metadata": {},
   "outputs": [],
   "source": [
    "x_train_val , x_test , y_train_val , y_test = train_test_split(x, y, test_size=0.2 , random_state=42)"
   ]
  },
  {
   "cell_type": "markdown",
   "id": "033800ce",
   "metadata": {},
   "source": [
    "#### Split data train+validation to train and validation"
   ]
  },
  {
   "cell_type": "code",
   "execution_count": 112,
   "id": "4ed9fb51",
   "metadata": {},
   "outputs": [],
   "source": [
    "x_train, x_val, y_train, y_val = train_test_split(x_train_val, y_train_val, test_size=0.2, random_state=42)"
   ]
  },
  {
   "cell_type": "code",
   "execution_count": 113,
   "id": "f170bc06",
   "metadata": {},
   "outputs": [
    {
     "name": "stdout",
     "output_type": "stream",
     "text": [
      "Train set: (63997, 8) (63997,)\n",
      "Validation set: (16000, 8) (16000,)\n",
      "Test set: (20000, 8) (20000,)\n"
     ]
    }
   ],
   "source": [
    "print(\"Train set:\", x_train.shape, y_train.shape)\n",
    "print(\"Validation set:\", x_val.shape, y_val.shape)\n",
    "print(\"Test set:\", x_test.shape, y_test.shape)"
   ]
  },
  {
   "cell_type": "code",
   "execution_count": 114,
   "id": "460895c1",
   "metadata": {},
   "outputs": [
    {
     "name": "stdout",
     "output_type": "stream",
     "text": [
      "+-------+--------+-----+--------------+---------------+-----------------+-----+-------------+---------------------+\n",
      "|       | gender | age | hypertension | heart_disease | smoking_history | bmi | HbA1c_level | blood_glucose_level |\n",
      "+-------+--------+-----+--------------+---------------+-----------------+-----+-------------+---------------------+\n",
      "| 48067 |   1    | 53  |      0       |       0       |        1        | 38  |      6      |         85          |\n",
      "| 97375 |   1    | 42  |      0       |       0       |        0        | 21  |      4      |         85          |\n",
      "| 93314 |   0    | 49  |      0       |       0       |        4        | 47  |      6      |         159         |\n",
      "| 28843 |   0    | 67  |      0       |       0       |        4        | 22  |      5      |         85          |\n",
      "| 14161 |   0    | 78  |      0       |       0       |        3        | 26  |      4      |         85          |\n",
      "+-------+--------+-----+--------------+---------------+-----------------+-----+-------------+---------------------+\n"
     ]
    }
   ],
   "source": [
    "print(tabulate(x_train.head(), headers='keys', tablefmt='pretty'))"
   ]
  },
  {
   "cell_type": "code",
   "execution_count": 115,
   "id": "5ad28c96",
   "metadata": {},
   "outputs": [
    {
     "name": "stdout",
     "output_type": "stream",
     "text": [
      "+-------+--------+-----+--------------+---------------+-----------------+-----+-------------+---------------------+\n",
      "|       | gender | age | hypertension | heart_disease | smoking_history | bmi | HbA1c_level | blood_glucose_level |\n",
      "+-------+--------+-----+--------------+---------------+-----------------+-----+-------------+---------------------+\n",
      "| 33971 |   0    | 48  |      1       |       0       |        4        | 33  |      5      |         155         |\n",
      "| 24615 |   0    | 63  |      0       |       0       |        0        | 17  |      6      |         140         |\n",
      "| 42680 |   1    | 14  |      0       |       0       |        0        | 27  |      5      |         140         |\n",
      "| 9735  |   0    | 10  |      0       |       0       |        0        | 14  |      5      |         158         |\n",
      "| 7132  |   0    | 84  |      0       |       0       |        0        | 30  |      6      |         140         |\n",
      "+-------+--------+-----+--------------+---------------+-----------------+-----+-------------+---------------------+\n"
     ]
    }
   ],
   "source": [
    "print(tabulate(x_test.head(), headers='keys', tablefmt='pretty'))"
   ]
  },
  {
   "cell_type": "markdown",
   "id": "cab5cffc",
   "metadata": {},
   "source": [
    "# Train Model"
   ]
  },
  {
   "cell_type": "markdown",
   "id": "2cc1d1f7",
   "metadata": {},
   "source": [
    "### Logestic Regression"
   ]
  },
  {
   "cell_type": "code",
   "execution_count": 117,
   "id": "b61bbe77",
   "metadata": {},
   "outputs": [
    {
     "data": {
      "text/html": [
       "<style>#sk-container-id-2 {\n",
       "  /* Definition of color scheme common for light and dark mode */\n",
       "  --sklearn-color-text: #000;\n",
       "  --sklearn-color-text-muted: #666;\n",
       "  --sklearn-color-line: gray;\n",
       "  /* Definition of color scheme for unfitted estimators */\n",
       "  --sklearn-color-unfitted-level-0: #fff5e6;\n",
       "  --sklearn-color-unfitted-level-1: #f6e4d2;\n",
       "  --sklearn-color-unfitted-level-2: #ffe0b3;\n",
       "  --sklearn-color-unfitted-level-3: chocolate;\n",
       "  /* Definition of color scheme for fitted estimators */\n",
       "  --sklearn-color-fitted-level-0: #f0f8ff;\n",
       "  --sklearn-color-fitted-level-1: #d4ebff;\n",
       "  --sklearn-color-fitted-level-2: #b3dbfd;\n",
       "  --sklearn-color-fitted-level-3: cornflowerblue;\n",
       "\n",
       "  /* Specific color for light theme */\n",
       "  --sklearn-color-text-on-default-background: var(--sg-text-color, var(--theme-code-foreground, var(--jp-content-font-color1, black)));\n",
       "  --sklearn-color-background: var(--sg-background-color, var(--theme-background, var(--jp-layout-color0, white)));\n",
       "  --sklearn-color-border-box: var(--sg-text-color, var(--theme-code-foreground, var(--jp-content-font-color1, black)));\n",
       "  --sklearn-color-icon: #696969;\n",
       "\n",
       "  @media (prefers-color-scheme: dark) {\n",
       "    /* Redefinition of color scheme for dark theme */\n",
       "    --sklearn-color-text-on-default-background: var(--sg-text-color, var(--theme-code-foreground, var(--jp-content-font-color1, white)));\n",
       "    --sklearn-color-background: var(--sg-background-color, var(--theme-background, var(--jp-layout-color0, #111)));\n",
       "    --sklearn-color-border-box: var(--sg-text-color, var(--theme-code-foreground, var(--jp-content-font-color1, white)));\n",
       "    --sklearn-color-icon: #878787;\n",
       "  }\n",
       "}\n",
       "\n",
       "#sk-container-id-2 {\n",
       "  color: var(--sklearn-color-text);\n",
       "}\n",
       "\n",
       "#sk-container-id-2 pre {\n",
       "  padding: 0;\n",
       "}\n",
       "\n",
       "#sk-container-id-2 input.sk-hidden--visually {\n",
       "  border: 0;\n",
       "  clip: rect(1px 1px 1px 1px);\n",
       "  clip: rect(1px, 1px, 1px, 1px);\n",
       "  height: 1px;\n",
       "  margin: -1px;\n",
       "  overflow: hidden;\n",
       "  padding: 0;\n",
       "  position: absolute;\n",
       "  width: 1px;\n",
       "}\n",
       "\n",
       "#sk-container-id-2 div.sk-dashed-wrapped {\n",
       "  border: 1px dashed var(--sklearn-color-line);\n",
       "  margin: 0 0.4em 0.5em 0.4em;\n",
       "  box-sizing: border-box;\n",
       "  padding-bottom: 0.4em;\n",
       "  background-color: var(--sklearn-color-background);\n",
       "}\n",
       "\n",
       "#sk-container-id-2 div.sk-container {\n",
       "  /* jupyter's `normalize.less` sets `[hidden] { display: none; }`\n",
       "     but bootstrap.min.css set `[hidden] { display: none !important; }`\n",
       "     so we also need the `!important` here to be able to override the\n",
       "     default hidden behavior on the sphinx rendered scikit-learn.org.\n",
       "     See: https://github.com/scikit-learn/scikit-learn/issues/21755 */\n",
       "  display: inline-block !important;\n",
       "  position: relative;\n",
       "}\n",
       "\n",
       "#sk-container-id-2 div.sk-text-repr-fallback {\n",
       "  display: none;\n",
       "}\n",
       "\n",
       "div.sk-parallel-item,\n",
       "div.sk-serial,\n",
       "div.sk-item {\n",
       "  /* draw centered vertical line to link estimators */\n",
       "  background-image: linear-gradient(var(--sklearn-color-text-on-default-background), var(--sklearn-color-text-on-default-background));\n",
       "  background-size: 2px 100%;\n",
       "  background-repeat: no-repeat;\n",
       "  background-position: center center;\n",
       "}\n",
       "\n",
       "/* Parallel-specific style estimator block */\n",
       "\n",
       "#sk-container-id-2 div.sk-parallel-item::after {\n",
       "  content: \"\";\n",
       "  width: 100%;\n",
       "  border-bottom: 2px solid var(--sklearn-color-text-on-default-background);\n",
       "  flex-grow: 1;\n",
       "}\n",
       "\n",
       "#sk-container-id-2 div.sk-parallel {\n",
       "  display: flex;\n",
       "  align-items: stretch;\n",
       "  justify-content: center;\n",
       "  background-color: var(--sklearn-color-background);\n",
       "  position: relative;\n",
       "}\n",
       "\n",
       "#sk-container-id-2 div.sk-parallel-item {\n",
       "  display: flex;\n",
       "  flex-direction: column;\n",
       "}\n",
       "\n",
       "#sk-container-id-2 div.sk-parallel-item:first-child::after {\n",
       "  align-self: flex-end;\n",
       "  width: 50%;\n",
       "}\n",
       "\n",
       "#sk-container-id-2 div.sk-parallel-item:last-child::after {\n",
       "  align-self: flex-start;\n",
       "  width: 50%;\n",
       "}\n",
       "\n",
       "#sk-container-id-2 div.sk-parallel-item:only-child::after {\n",
       "  width: 0;\n",
       "}\n",
       "\n",
       "/* Serial-specific style estimator block */\n",
       "\n",
       "#sk-container-id-2 div.sk-serial {\n",
       "  display: flex;\n",
       "  flex-direction: column;\n",
       "  align-items: center;\n",
       "  background-color: var(--sklearn-color-background);\n",
       "  padding-right: 1em;\n",
       "  padding-left: 1em;\n",
       "}\n",
       "\n",
       "\n",
       "/* Toggleable style: style used for estimator/Pipeline/ColumnTransformer box that is\n",
       "clickable and can be expanded/collapsed.\n",
       "- Pipeline and ColumnTransformer use this feature and define the default style\n",
       "- Estimators will overwrite some part of the style using the `sk-estimator` class\n",
       "*/\n",
       "\n",
       "/* Pipeline and ColumnTransformer style (default) */\n",
       "\n",
       "#sk-container-id-2 div.sk-toggleable {\n",
       "  /* Default theme specific background. It is overwritten whether we have a\n",
       "  specific estimator or a Pipeline/ColumnTransformer */\n",
       "  background-color: var(--sklearn-color-background);\n",
       "}\n",
       "\n",
       "/* Toggleable label */\n",
       "#sk-container-id-2 label.sk-toggleable__label {\n",
       "  cursor: pointer;\n",
       "  display: flex;\n",
       "  width: 100%;\n",
       "  margin-bottom: 0;\n",
       "  padding: 0.5em;\n",
       "  box-sizing: border-box;\n",
       "  text-align: center;\n",
       "  align-items: start;\n",
       "  justify-content: space-between;\n",
       "  gap: 0.5em;\n",
       "}\n",
       "\n",
       "#sk-container-id-2 label.sk-toggleable__label .caption {\n",
       "  font-size: 0.6rem;\n",
       "  font-weight: lighter;\n",
       "  color: var(--sklearn-color-text-muted);\n",
       "}\n",
       "\n",
       "#sk-container-id-2 label.sk-toggleable__label-arrow:before {\n",
       "  /* Arrow on the left of the label */\n",
       "  content: \"▸\";\n",
       "  float: left;\n",
       "  margin-right: 0.25em;\n",
       "  color: var(--sklearn-color-icon);\n",
       "}\n",
       "\n",
       "#sk-container-id-2 label.sk-toggleable__label-arrow:hover:before {\n",
       "  color: var(--sklearn-color-text);\n",
       "}\n",
       "\n",
       "/* Toggleable content - dropdown */\n",
       "\n",
       "#sk-container-id-2 div.sk-toggleable__content {\n",
       "  max-height: 0;\n",
       "  max-width: 0;\n",
       "  overflow: hidden;\n",
       "  text-align: left;\n",
       "  /* unfitted */\n",
       "  background-color: var(--sklearn-color-unfitted-level-0);\n",
       "}\n",
       "\n",
       "#sk-container-id-2 div.sk-toggleable__content.fitted {\n",
       "  /* fitted */\n",
       "  background-color: var(--sklearn-color-fitted-level-0);\n",
       "}\n",
       "\n",
       "#sk-container-id-2 div.sk-toggleable__content pre {\n",
       "  margin: 0.2em;\n",
       "  border-radius: 0.25em;\n",
       "  color: var(--sklearn-color-text);\n",
       "  /* unfitted */\n",
       "  background-color: var(--sklearn-color-unfitted-level-0);\n",
       "}\n",
       "\n",
       "#sk-container-id-2 div.sk-toggleable__content.fitted pre {\n",
       "  /* unfitted */\n",
       "  background-color: var(--sklearn-color-fitted-level-0);\n",
       "}\n",
       "\n",
       "#sk-container-id-2 input.sk-toggleable__control:checked~div.sk-toggleable__content {\n",
       "  /* Expand drop-down */\n",
       "  max-height: 200px;\n",
       "  max-width: 100%;\n",
       "  overflow: auto;\n",
       "}\n",
       "\n",
       "#sk-container-id-2 input.sk-toggleable__control:checked~label.sk-toggleable__label-arrow:before {\n",
       "  content: \"▾\";\n",
       "}\n",
       "\n",
       "/* Pipeline/ColumnTransformer-specific style */\n",
       "\n",
       "#sk-container-id-2 div.sk-label input.sk-toggleable__control:checked~label.sk-toggleable__label {\n",
       "  color: var(--sklearn-color-text);\n",
       "  background-color: var(--sklearn-color-unfitted-level-2);\n",
       "}\n",
       "\n",
       "#sk-container-id-2 div.sk-label.fitted input.sk-toggleable__control:checked~label.sk-toggleable__label {\n",
       "  background-color: var(--sklearn-color-fitted-level-2);\n",
       "}\n",
       "\n",
       "/* Estimator-specific style */\n",
       "\n",
       "/* Colorize estimator box */\n",
       "#sk-container-id-2 div.sk-estimator input.sk-toggleable__control:checked~label.sk-toggleable__label {\n",
       "  /* unfitted */\n",
       "  background-color: var(--sklearn-color-unfitted-level-2);\n",
       "}\n",
       "\n",
       "#sk-container-id-2 div.sk-estimator.fitted input.sk-toggleable__control:checked~label.sk-toggleable__label {\n",
       "  /* fitted */\n",
       "  background-color: var(--sklearn-color-fitted-level-2);\n",
       "}\n",
       "\n",
       "#sk-container-id-2 div.sk-label label.sk-toggleable__label,\n",
       "#sk-container-id-2 div.sk-label label {\n",
       "  /* The background is the default theme color */\n",
       "  color: var(--sklearn-color-text-on-default-background);\n",
       "}\n",
       "\n",
       "/* On hover, darken the color of the background */\n",
       "#sk-container-id-2 div.sk-label:hover label.sk-toggleable__label {\n",
       "  color: var(--sklearn-color-text);\n",
       "  background-color: var(--sklearn-color-unfitted-level-2);\n",
       "}\n",
       "\n",
       "/* Label box, darken color on hover, fitted */\n",
       "#sk-container-id-2 div.sk-label.fitted:hover label.sk-toggleable__label.fitted {\n",
       "  color: var(--sklearn-color-text);\n",
       "  background-color: var(--sklearn-color-fitted-level-2);\n",
       "}\n",
       "\n",
       "/* Estimator label */\n",
       "\n",
       "#sk-container-id-2 div.sk-label label {\n",
       "  font-family: monospace;\n",
       "  font-weight: bold;\n",
       "  display: inline-block;\n",
       "  line-height: 1.2em;\n",
       "}\n",
       "\n",
       "#sk-container-id-2 div.sk-label-container {\n",
       "  text-align: center;\n",
       "}\n",
       "\n",
       "/* Estimator-specific */\n",
       "#sk-container-id-2 div.sk-estimator {\n",
       "  font-family: monospace;\n",
       "  border: 1px dotted var(--sklearn-color-border-box);\n",
       "  border-radius: 0.25em;\n",
       "  box-sizing: border-box;\n",
       "  margin-bottom: 0.5em;\n",
       "  /* unfitted */\n",
       "  background-color: var(--sklearn-color-unfitted-level-0);\n",
       "}\n",
       "\n",
       "#sk-container-id-2 div.sk-estimator.fitted {\n",
       "  /* fitted */\n",
       "  background-color: var(--sklearn-color-fitted-level-0);\n",
       "}\n",
       "\n",
       "/* on hover */\n",
       "#sk-container-id-2 div.sk-estimator:hover {\n",
       "  /* unfitted */\n",
       "  background-color: var(--sklearn-color-unfitted-level-2);\n",
       "}\n",
       "\n",
       "#sk-container-id-2 div.sk-estimator.fitted:hover {\n",
       "  /* fitted */\n",
       "  background-color: var(--sklearn-color-fitted-level-2);\n",
       "}\n",
       "\n",
       "/* Specification for estimator info (e.g. \"i\" and \"?\") */\n",
       "\n",
       "/* Common style for \"i\" and \"?\" */\n",
       "\n",
       ".sk-estimator-doc-link,\n",
       "a:link.sk-estimator-doc-link,\n",
       "a:visited.sk-estimator-doc-link {\n",
       "  float: right;\n",
       "  font-size: smaller;\n",
       "  line-height: 1em;\n",
       "  font-family: monospace;\n",
       "  background-color: var(--sklearn-color-background);\n",
       "  border-radius: 1em;\n",
       "  height: 1em;\n",
       "  width: 1em;\n",
       "  text-decoration: none !important;\n",
       "  margin-left: 0.5em;\n",
       "  text-align: center;\n",
       "  /* unfitted */\n",
       "  border: var(--sklearn-color-unfitted-level-1) 1pt solid;\n",
       "  color: var(--sklearn-color-unfitted-level-1);\n",
       "}\n",
       "\n",
       ".sk-estimator-doc-link.fitted,\n",
       "a:link.sk-estimator-doc-link.fitted,\n",
       "a:visited.sk-estimator-doc-link.fitted {\n",
       "  /* fitted */\n",
       "  border: var(--sklearn-color-fitted-level-1) 1pt solid;\n",
       "  color: var(--sklearn-color-fitted-level-1);\n",
       "}\n",
       "\n",
       "/* On hover */\n",
       "div.sk-estimator:hover .sk-estimator-doc-link:hover,\n",
       ".sk-estimator-doc-link:hover,\n",
       "div.sk-label-container:hover .sk-estimator-doc-link:hover,\n",
       ".sk-estimator-doc-link:hover {\n",
       "  /* unfitted */\n",
       "  background-color: var(--sklearn-color-unfitted-level-3);\n",
       "  color: var(--sklearn-color-background);\n",
       "  text-decoration: none;\n",
       "}\n",
       "\n",
       "div.sk-estimator.fitted:hover .sk-estimator-doc-link.fitted:hover,\n",
       ".sk-estimator-doc-link.fitted:hover,\n",
       "div.sk-label-container:hover .sk-estimator-doc-link.fitted:hover,\n",
       ".sk-estimator-doc-link.fitted:hover {\n",
       "  /* fitted */\n",
       "  background-color: var(--sklearn-color-fitted-level-3);\n",
       "  color: var(--sklearn-color-background);\n",
       "  text-decoration: none;\n",
       "}\n",
       "\n",
       "/* Span, style for the box shown on hovering the info icon */\n",
       ".sk-estimator-doc-link span {\n",
       "  display: none;\n",
       "  z-index: 9999;\n",
       "  position: relative;\n",
       "  font-weight: normal;\n",
       "  right: .2ex;\n",
       "  padding: .5ex;\n",
       "  margin: .5ex;\n",
       "  width: min-content;\n",
       "  min-width: 20ex;\n",
       "  max-width: 50ex;\n",
       "  color: var(--sklearn-color-text);\n",
       "  box-shadow: 2pt 2pt 4pt #999;\n",
       "  /* unfitted */\n",
       "  background: var(--sklearn-color-unfitted-level-0);\n",
       "  border: .5pt solid var(--sklearn-color-unfitted-level-3);\n",
       "}\n",
       "\n",
       ".sk-estimator-doc-link.fitted span {\n",
       "  /* fitted */\n",
       "  background: var(--sklearn-color-fitted-level-0);\n",
       "  border: var(--sklearn-color-fitted-level-3);\n",
       "}\n",
       "\n",
       ".sk-estimator-doc-link:hover span {\n",
       "  display: block;\n",
       "}\n",
       "\n",
       "/* \"?\"-specific style due to the `<a>` HTML tag */\n",
       "\n",
       "#sk-container-id-2 a.estimator_doc_link {\n",
       "  float: right;\n",
       "  font-size: 1rem;\n",
       "  line-height: 1em;\n",
       "  font-family: monospace;\n",
       "  background-color: var(--sklearn-color-background);\n",
       "  border-radius: 1rem;\n",
       "  height: 1rem;\n",
       "  width: 1rem;\n",
       "  text-decoration: none;\n",
       "  /* unfitted */\n",
       "  color: var(--sklearn-color-unfitted-level-1);\n",
       "  border: var(--sklearn-color-unfitted-level-1) 1pt solid;\n",
       "}\n",
       "\n",
       "#sk-container-id-2 a.estimator_doc_link.fitted {\n",
       "  /* fitted */\n",
       "  border: var(--sklearn-color-fitted-level-1) 1pt solid;\n",
       "  color: var(--sklearn-color-fitted-level-1);\n",
       "}\n",
       "\n",
       "/* On hover */\n",
       "#sk-container-id-2 a.estimator_doc_link:hover {\n",
       "  /* unfitted */\n",
       "  background-color: var(--sklearn-color-unfitted-level-3);\n",
       "  color: var(--sklearn-color-background);\n",
       "  text-decoration: none;\n",
       "}\n",
       "\n",
       "#sk-container-id-2 a.estimator_doc_link.fitted:hover {\n",
       "  /* fitted */\n",
       "  background-color: var(--sklearn-color-fitted-level-3);\n",
       "}\n",
       "</style><div id=\"sk-container-id-2\" class=\"sk-top-container\"><div class=\"sk-text-repr-fallback\"><pre>LogisticRegression(max_iter=1000)</pre><b>In a Jupyter environment, please rerun this cell to show the HTML representation or trust the notebook. <br />On GitHub, the HTML representation is unable to render, please try loading this page with nbviewer.org.</b></div><div class=\"sk-container\" hidden><div class=\"sk-item\"><div class=\"sk-estimator fitted sk-toggleable\"><input class=\"sk-toggleable__control sk-hidden--visually\" id=\"sk-estimator-id-2\" type=\"checkbox\" checked><label for=\"sk-estimator-id-2\" class=\"sk-toggleable__label fitted sk-toggleable__label-arrow\"><div><div>LogisticRegression</div></div><div><a class=\"sk-estimator-doc-link fitted\" rel=\"noreferrer\" target=\"_blank\" href=\"https://scikit-learn.org/1.6/modules/generated/sklearn.linear_model.LogisticRegression.html\">?<span>Documentation for LogisticRegression</span></a><span class=\"sk-estimator-doc-link fitted\">i<span>Fitted</span></span></div></label><div class=\"sk-toggleable__content fitted\"><pre>LogisticRegression(max_iter=1000)</pre></div> </div></div></div></div>"
      ],
      "text/plain": [
       "LogisticRegression(max_iter=1000)"
      ]
     },
     "execution_count": 117,
     "metadata": {},
     "output_type": "execute_result"
    }
   ],
   "source": [
    "from sklearn.linear_model import LogisticRegression\n",
    "\n",
    "model = LogisticRegression(max_iter=1000)\n",
    "\n",
    "model.fit(x_train, y_train)"
   ]
  },
  {
   "cell_type": "markdown",
   "id": "92c26b53",
   "metadata": {},
   "source": [
    "# Testing and verification"
   ]
  },
  {
   "cell_type": "code",
   "execution_count": 118,
   "id": "04bb020a",
   "metadata": {},
   "outputs": [
    {
     "name": "stdout",
     "output_type": "stream",
     "text": [
      "Accuracy: 0.9576\n",
      "              precision    recall  f1-score   support\n",
      "\n",
      "           0       0.96      0.99      0.98     18278\n",
      "           1       0.87      0.60      0.71      1722\n",
      "\n",
      "    accuracy                           0.96     20000\n",
      "   macro avg       0.92      0.79      0.84     20000\n",
      "weighted avg       0.96      0.96      0.95     20000\n",
      "\n"
     ]
    }
   ],
   "source": [
    "from sklearn.metrics import classification_report , accuracy_score\n",
    "\n",
    "y_pred = model.predict(x_test)\n",
    "print (\"Accuracy:\" , accuracy_score(y_test , y_pred))\n",
    "print(classification_report(y_test, y_pred))"
   ]
  },
  {
   "cell_type": "markdown",
   "id": "c7555577",
   "metadata": {},
   "source": [
    "# Confusion Matrix"
   ]
  },
  {
   "cell_type": "code",
   "execution_count": null,
   "id": "04acf667",
   "metadata": {},
   "outputs": [],
   "source": [
    "import matplotlib.pyplot as plt\n",
    "import seaborn as sns\n",
    "from sklearn.metrics import confusion_matrix, classification_report"
   ]
  },
  {
   "cell_type": "code",
   "execution_count": 119,
   "id": "a065de1e",
   "metadata": {},
   "outputs": [],
   "source": [
    "conf_matrix = confusion_matrix(y_test, y_pred)"
   ]
  },
  {
   "cell_type": "code",
   "execution_count": 120,
   "id": "15d43abf",
   "metadata": {},
   "outputs": [
    {
     "data": {
      "image/png": "[encoded data removed]",
      "text/plain": [
       "<Figure size 800x600 with 2 Axes>"
      ]
     },
     "metadata": {},
     "output_type": "display_data"
    }
   ],
   "source": [
    "plt.figure(figsize=(8, 6))\n",
    "sns.heatmap(conf_matrix, annot=True, fmt='d', cmap='Blues', xticklabels=[\"Class 0\", \"Class 1\"], yticklabels=[\"Class 0\", \"Class 1\"])\n",
    "plt.title(\"Confusion Matrix\")\n",
    "plt.xlabel(\"Predicted Labels\")\n",
    "plt.ylabel(\"True Labels\")\n",
    "plt.show()"
   ]
  },
  {
   "cell_type": "code",
   "execution_count": 123,
   "id": "186f1ba6",
   "metadata": {},
   "outputs": [],
   "source": [
    "TN = conf_matrix[1, 1]  \n",
    "FP = conf_matrix[0, 1]  \n",
    "TP = conf_matrix[0, 0]  \n",
    "FN = conf_matrix[1, 0]"
   ]
  },
  {
   "cell_type": "code",
   "execution_count": 124,
   "id": "297df112",
   "metadata": {},
   "outputs": [
    {
     "name": "stdout",
     "output_type": "stream",
     "text": [
      "True Positives: 18125\n",
      "False Positives: 153\n",
      "True Negatives: 1027\n",
      "False Negatives: 695\n"
     ]
    }
   ],
   "source": [
    "print(f\"True Positives: {TP}\")\n",
    "print(f\"False Positives: {FP}\")\n",
    "print(f\"True Negatives: {TN}\")\n",
    "print(f\"False Negatives: {FN}\")"
   ]
  },
  {
   "cell_type": "code",
   "execution_count": 125,
   "id": "d6be5131",
   "metadata": {},
   "outputs": [],
   "source": [
    "accuracy = (TP + TN) / (TP + FP + TN + FN)\n",
    "precision = TP / (TP + FP) if (TP + FP) != 0 else 0\n",
    "recall = TP / (TP + FN) if (TP + FN) != 0 else 0\n",
    "f1 = 2 * (precision * recall) / (precision + recall) if (precision + recall) != 0 else 0"
   ]
  },
  {
   "cell_type": "code",
   "execution_count": 146,
   "id": "8219ef8a",
   "metadata": {},
   "outputs": [
    {
     "name": "stdout",
     "output_type": "stream",
     "text": [
      "Accuracy: 0.9576\n",
      "Precision: 0.9916292811029653\n",
      "Recall: 0.9630712008501594\n",
      "F1-Score: 0.9771416248854385\n"
     ]
    }
   ],
   "source": [
    "print(f\"Accuracy: {accuracy}\")\n",
    "print(f\"Precision: {precision}\")\n",
    "print(f\"Recall: {recall}\")\n",
    "print(f\"F1-Score: {f1}\")"
   ]
  },
  {
   "cell_type": "code",
   "execution_count": 147,
   "id": "f77db7cd",
   "metadata": {},
   "outputs": [
    {
     "name": "stdout",
     "output_type": "stream",
     "text": [
      "Loss: 1.5282509036985674\n"
     ]
    }
   ],
   "source": [
    "from sklearn.metrics import log_loss\n",
    "\n",
    "loss = log_loss(y_test, y_pred)\n",
    "\n",
    "print(\"Loss:\", loss)"
   ]
  },
  {
   "cell_type": "code",
   "execution_count": 153,
   "id": "71cba1a4",
   "metadata": {},
   "outputs": [
    {
     "data": {
      "text/html": [
       "<style>#sk-container-id-5 {\n",
       "  /* Definition of color scheme common for light and dark mode */\n",
       "  --sklearn-color-text: #000;\n",
       "  --sklearn-color-text-muted: #666;\n",
       "  --sklearn-color-line: gray;\n",
       "  /* Definition of color scheme for unfitted estimators */\n",
       "  --sklearn-color-unfitted-level-0: #fff5e6;\n",
       "  --sklearn-color-unfitted-level-1: #f6e4d2;\n",
       "  --sklearn-color-unfitted-level-2: #ffe0b3;\n",
       "  --sklearn-color-unfitted-level-3: chocolate;\n",
       "  /* Definition of color scheme for fitted estimators */\n",
       "  --sklearn-color-fitted-level-0: #f0f8ff;\n",
       "  --sklearn-color-fitted-level-1: #d4ebff;\n",
       "  --sklearn-color-fitted-level-2: #b3dbfd;\n",
       "  --sklearn-color-fitted-level-3: cornflowerblue;\n",
       "\n",
       "  /* Specific color for light theme */\n",
       "  --sklearn-color-text-on-default-background: var(--sg-text-color, var(--theme-code-foreground, var(--jp-content-font-color1, black)));\n",
       "  --sklearn-color-background: var(--sg-background-color, var(--theme-background, var(--jp-layout-color0, white)));\n",
       "  --sklearn-color-border-box: var(--sg-text-color, var(--theme-code-foreground, var(--jp-content-font-color1, black)));\n",
       "  --sklearn-color-icon: #696969;\n",
       "\n",
       "  @media (prefers-color-scheme: dark) {\n",
       "    /* Redefinition of color scheme for dark theme */\n",
       "    --sklearn-color-text-on-default-background: var(--sg-text-color, var(--theme-code-foreground, var(--jp-content-font-color1, white)));\n",
       "    --sklearn-color-background: var(--sg-background-color, var(--theme-background, var(--jp-layout-color0, #111)));\n",
       "    --sklearn-color-border-box: var(--sg-text-color, var(--theme-code-foreground, var(--jp-content-font-color1, white)));\n",
       "    --sklearn-color-icon: #878787;\n",
       "  }\n",
       "}\n",
       "\n",
       "#sk-container-id-5 {\n",
       "  color: var(--sklearn-color-text);\n",
       "}\n",
       "\n",
       "#sk-container-id-5 pre {\n",
       "  padding: 0;\n",
       "}\n",
       "\n",
       "#sk-container-id-5 input.sk-hidden--visually {\n",
       "  border: 0;\n",
       "  clip: rect(1px 1px 1px 1px);\n",
       "  clip: rect(1px, 1px, 1px, 1px);\n",
       "  height: 1px;\n",
       "  margin: -1px;\n",
       "  overflow: hidden;\n",
       "  padding: 0;\n",
       "  position: absolute;\n",
       "  width: 1px;\n",
       "}\n",
       "\n",
       "#sk-container-id-5 div.sk-dashed-wrapped {\n",
       "  border: 1px dashed var(--sklearn-color-line);\n",
       "  margin: 0 0.4em 0.5em 0.4em;\n",
       "  box-sizing: border-box;\n",
       "  padding-bottom: 0.4em;\n",
       "  background-color: var(--sklearn-color-background);\n",
       "}\n",
       "\n",
       "#sk-container-id-5 div.sk-container {\n",
       "  /* jupyter's `normalize.less` sets `[hidden] { display: none; }`\n",
       "     but bootstrap.min.css set `[hidden] { display: none !important; }`\n",
       "     so we also need the `!important` here to be able to override the\n",
       "     default hidden behavior on the sphinx rendered scikit-learn.org.\n",
       "     See: https://github.com/scikit-learn/scikit-learn/issues/21755 */\n",
       "  display: inline-block !important;\n",
       "  position: relative;\n",
       "}\n",
       "\n",
       "#sk-container-id-5 div.sk-text-repr-fallback {\n",
       "  display: none;\n",
       "}\n",
       "\n",
       "div.sk-parallel-item,\n",
       "div.sk-serial,\n",
       "div.sk-item {\n",
       "  /* draw centered vertical line to link estimators */\n",
       "  background-image: linear-gradient(var(--sklearn-color-text-on-default-background), var(--sklearn-color-text-on-default-background));\n",
       "  background-size: 2px 100%;\n",
       "  background-repeat: no-repeat;\n",
       "  background-position: center center;\n",
       "}\n",
       "\n",
       "/* Parallel-specific style estimator block */\n",
       "\n",
       "#sk-container-id-5 div.sk-parallel-item::after {\n",
       "  content: \"\";\n",
       "  width: 100%;\n",
       "  border-bottom: 2px solid var(--sklearn-color-text-on-default-background);\n",
       "  flex-grow: 1;\n",
       "}\n",
       "\n",
       "#sk-container-id-5 div.sk-parallel {\n",
       "  display: flex;\n",
       "  align-items: stretch;\n",
       "  justify-content: center;\n",
       "  background-color: var(--sklearn-color-background);\n",
       "  position: relative;\n",
       "}\n",
       "\n",
       "#sk-container-id-5 div.sk-parallel-item {\n",
       "  display: flex;\n",
       "  flex-direction: column;\n",
       "}\n",
       "\n",
       "#sk-container-id-5 div.sk-parallel-item:first-child::after {\n",
       "  align-self: flex-end;\n",
       "  width: 50%;\n",
       "}\n",
       "\n",
       "#sk-container-id-5 div.sk-parallel-item:last-child::after {\n",
       "  align-self: flex-start;\n",
       "  width: 50%;\n",
       "}\n",
       "\n",
       "#sk-container-id-5 div.sk-parallel-item:only-child::after {\n",
       "  width: 0;\n",
       "}\n",
       "\n",
       "/* Serial-specific style estimator block */\n",
       "\n",
       "#sk-container-id-5 div.sk-serial {\n",
       "  display: flex;\n",
       "  flex-direction: column;\n",
       "  align-items: center;\n",
       "  background-color: var(--sklearn-color-background);\n",
       "  padding-right: 1em;\n",
       "  padding-left: 1em;\n",
       "}\n",
       "\n",
       "\n",
       "/* Toggleable style: style used for estimator/Pipeline/ColumnTransformer box that is\n",
       "clickable and can be expanded/collapsed.\n",
       "- Pipeline and ColumnTransformer use this feature and define the default style\n",
       "- Estimators will overwrite some part of the style using the `sk-estimator` class\n",
       "*/\n",
       "\n",
       "/* Pipeline and ColumnTransformer style (default) */\n",
       "\n",
       "#sk-container-id-5 div.sk-toggleable {\n",
       "  /* Default theme specific background. It is overwritten whether we have a\n",
       "  specific estimator or a Pipeline/ColumnTransformer */\n",
       "  background-color: var(--sklearn-color-background);\n",
       "}\n",
       "\n",
       "/* Toggleable label */\n",
       "#sk-container-id-5 label.sk-toggleable__label {\n",
       "  cursor: pointer;\n",
       "  display: flex;\n",
       "  width: 100%;\n",
       "  margin-bottom: 0;\n",
       "  padding: 0.5em;\n",
       "  box-sizing: border-box;\n",
       "  text-align: center;\n",
       "  align-items: start;\n",
       "  justify-content: space-between;\n",
       "  gap: 0.5em;\n",
       "}\n",
       "\n",
       "#sk-container-id-5 label.sk-toggleable__label .caption {\n",
       "  font-size: 0.6rem;\n",
       "  font-weight: lighter;\n",
       "  color: var(--sklearn-color-text-muted);\n",
       "}\n",
       "\n",
       "#sk-container-id-5 label.sk-toggleable__label-arrow:before {\n",
       "  /* Arrow on the left of the label */\n",
       "  content: \"▸\";\n",
       "  float: left;\n",
       "  margin-right: 0.25em;\n",
       "  color: var(--sklearn-color-icon);\n",
       "}\n",
       "\n",
       "#sk-container-id-5 label.sk-toggleable__label-arrow:hover:before {\n",
       "  color: var(--sklearn-color-text);\n",
       "}\n",
       "\n",
       "/* Toggleable content - dropdown */\n",
       "\n",
       "#sk-container-id-5 div.sk-toggleable__content {\n",
       "  max-height: 0;\n",
       "  max-width: 0;\n",
       "  overflow: hidden;\n",
       "  text-align: left;\n",
       "  /* unfitted */\n",
       "  background-color: var(--sklearn-color-unfitted-level-0);\n",
       "}\n",
       "\n",
       "#sk-container-id-5 div.sk-toggleable__content.fitted {\n",
       "  /* fitted */\n",
       "  background-color: var(--sklearn-color-fitted-level-0);\n",
       "}\n",
       "\n",
       "#sk-container-id-5 div.sk-toggleable__content pre {\n",
       "  margin: 0.2em;\n",
       "  border-radius: 0.25em;\n",
       "  color: var(--sklearn-color-text);\n",
       "  /* unfitted */\n",
       "  background-color: var(--sklearn-color-unfitted-level-0);\n",
       "}\n",
       "\n",
       "#sk-container-id-5 div.sk-toggleable__content.fitted pre {\n",
       "  /* unfitted */\n",
       "  background-color: var(--sklearn-color-fitted-level-0);\n",
       "}\n",
       "\n",
       "#sk-container-id-5 input.sk-toggleable__control:checked~div.sk-toggleable__content {\n",
       "  /* Expand drop-down */\n",
       "  max-height: 200px;\n",
       "  max-width: 100%;\n",
       "  overflow: auto;\n",
       "}\n",
       "\n",
       "#sk-container-id-5 input.sk-toggleable__control:checked~label.sk-toggleable__label-arrow:before {\n",
       "  content: \"▾\";\n",
       "}\n",
       "\n",
       "/* Pipeline/ColumnTransformer-specific style */\n",
       "\n",
       "#sk-container-id-5 div.sk-label input.sk-toggleable__control:checked~label.sk-toggleable__label {\n",
       "  color: var(--sklearn-color-text);\n",
       "  background-color: var(--sklearn-color-unfitted-level-2);\n",
       "}\n",
       "\n",
       "#sk-container-id-5 div.sk-label.fitted input.sk-toggleable__control:checked~label.sk-toggleable__label {\n",
       "  background-color: var(--sklearn-color-fitted-level-2);\n",
       "}\n",
       "\n",
       "/* Estimator-specific style */\n",
       "\n",
       "/* Colorize estimator box */\n",
       "#sk-container-id-5 div.sk-estimator input.sk-toggleable__control:checked~label.sk-toggleable__label {\n",
       "  /* unfitted */\n",
       "  background-color: var(--sklearn-color-unfitted-level-2);\n",
       "}\n",
       "\n",
       "#sk-container-id-5 div.sk-estimator.fitted input.sk-toggleable__control:checked~label.sk-toggleable__label {\n",
       "  /* fitted */\n",
       "  background-color: var(--sklearn-color-fitted-level-2);\n",
       "}\n",
       "\n",
       "#sk-container-id-5 div.sk-label label.sk-toggleable__label,\n",
       "#sk-container-id-5 div.sk-label label {\n",
       "  /* The background is the default theme color */\n",
       "  color: var(--sklearn-color-text-on-default-background);\n",
       "}\n",
       "\n",
       "/* On hover, darken the color of the background */\n",
       "#sk-container-id-5 div.sk-label:hover label.sk-toggleable__label {\n",
       "  color: var(--sklearn-color-text);\n",
       "  background-color: var(--sklearn-color-unfitted-level-2);\n",
       "}\n",
       "\n",
       "/* Label box, darken color on hover, fitted */\n",
       "#sk-container-id-5 div.sk-label.fitted:hover label.sk-toggleable__label.fitted {\n",
       "  color: var(--sklearn-color-text);\n",
       "  background-color: var(--sklearn-color-fitted-level-2);\n",
       "}\n",
       "\n",
       "/* Estimator label */\n",
       "\n",
       "#sk-container-id-5 div.sk-label label {\n",
       "  font-family: monospace;\n",
       "  font-weight: bold;\n",
       "  display: inline-block;\n",
       "  line-height: 1.2em;\n",
       "}\n",
       "\n",
       "#sk-container-id-5 div.sk-label-container {\n",
       "  text-align: center;\n",
       "}\n",
       "\n",
       "/* Estimator-specific */\n",
       "#sk-container-id-5 div.sk-estimator {\n",
       "  font-family: monospace;\n",
       "  border: 1px dotted var(--sklearn-color-border-box);\n",
       "  border-radius: 0.25em;\n",
       "  box-sizing: border-box;\n",
       "  margin-bottom: 0.5em;\n",
       "  /* unfitted */\n",
       "  background-color: var(--sklearn-color-unfitted-level-0);\n",
       "}\n",
       "\n",
       "#sk-container-id-5 div.sk-estimator.fitted {\n",
       "  /* fitted */\n",
       "  background-color: var(--sklearn-color-fitted-level-0);\n",
       "}\n",
       "\n",
       "/* on hover */\n",
       "#sk-container-id-5 div.sk-estimator:hover {\n",
       "  /* unfitted */\n",
       "  background-color: var(--sklearn-color-unfitted-level-2);\n",
       "}\n",
       "\n",
       "#sk-container-id-5 div.sk-estimator.fitted:hover {\n",
       "  /* fitted */\n",
       "  background-color: var(--sklearn-color-fitted-level-2);\n",
       "}\n",
       "\n",
       "/* Specification for estimator info (e.g. \"i\" and \"?\") */\n",
       "\n",
       "/* Common style for \"i\" and \"?\" */\n",
       "\n",
       ".sk-estimator-doc-link,\n",
       "a:link.sk-estimator-doc-link,\n",
       "a:visited.sk-estimator-doc-link {\n",
       "  float: right;\n",
       "  font-size: smaller;\n",
       "  line-height: 1em;\n",
       "  font-family: monospace;\n",
       "  background-color: var(--sklearn-color-background);\n",
       "  border-radius: 1em;\n",
       "  height: 1em;\n",
       "  width: 1em;\n",
       "  text-decoration: none !important;\n",
       "  margin-left: 0.5em;\n",
       "  text-align: center;\n",
       "  /* unfitted */\n",
       "  border: var(--sklearn-color-unfitted-level-1) 1pt solid;\n",
       "  color: var(--sklearn-color-unfitted-level-1);\n",
       "}\n",
       "\n",
       ".sk-estimator-doc-link.fitted,\n",
       "a:link.sk-estimator-doc-link.fitted,\n",
       "a:visited.sk-estimator-doc-link.fitted {\n",
       "  /* fitted */\n",
       "  border: var(--sklearn-color-fitted-level-1) 1pt solid;\n",
       "  color: var(--sklearn-color-fitted-level-1);\n",
       "}\n",
       "\n",
       "/* On hover */\n",
       "div.sk-estimator:hover .sk-estimator-doc-link:hover,\n",
       ".sk-estimator-doc-link:hover,\n",
       "div.sk-label-container:hover .sk-estimator-doc-link:hover,\n",
       ".sk-estimator-doc-link:hover {\n",
       "  /* unfitted */\n",
       "  background-color: var(--sklearn-color-unfitted-level-3);\n",
       "  color: var(--sklearn-color-background);\n",
       "  text-decoration: none;\n",
       "}\n",
       "\n",
       "div.sk-estimator.fitted:hover .sk-estimator-doc-link.fitted:hover,\n",
       ".sk-estimator-doc-link.fitted:hover,\n",
       "div.sk-label-container:hover .sk-estimator-doc-link.fitted:hover,\n",
       ".sk-estimator-doc-link.fitted:hover {\n",
       "  /* fitted */\n",
       "  background-color: var(--sklearn-color-fitted-level-3);\n",
       "  color: var(--sklearn-color-background);\n",
       "  text-decoration: none;\n",
       "}\n",
       "\n",
       "/* Span, style for the box shown on hovering the info icon */\n",
       ".sk-estimator-doc-link span {\n",
       "  display: none;\n",
       "  z-index: 9999;\n",
       "  position: relative;\n",
       "  font-weight: normal;\n",
       "  right: .2ex;\n",
       "  padding: .5ex;\n",
       "  margin: .5ex;\n",
       "  width: min-content;\n",
       "  min-width: 20ex;\n",
       "  max-width: 50ex;\n",
       "  color: var(--sklearn-color-text);\n",
       "  box-shadow: 2pt 2pt 4pt #999;\n",
       "  /* unfitted */\n",
       "  background: var(--sklearn-color-unfitted-level-0);\n",
       "  border: .5pt solid var(--sklearn-color-unfitted-level-3);\n",
       "}\n",
       "\n",
       ".sk-estimator-doc-link.fitted span {\n",
       "  /* fitted */\n",
       "  background: var(--sklearn-color-fitted-level-0);\n",
       "  border: var(--sklearn-color-fitted-level-3);\n",
       "}\n",
       "\n",
       ".sk-estimator-doc-link:hover span {\n",
       "  display: block;\n",
       "}\n",
       "\n",
       "/* \"?\"-specific style due to the `<a>` HTML tag */\n",
       "\n",
       "#sk-container-id-5 a.estimator_doc_link {\n",
       "  float: right;\n",
       "  font-size: 1rem;\n",
       "  line-height: 1em;\n",
       "  font-family: monospace;\n",
       "  background-color: var(--sklearn-color-background);\n",
       "  border-radius: 1rem;\n",
       "  height: 1rem;\n",
       "  width: 1rem;\n",
       "  text-decoration: none;\n",
       "  /* unfitted */\n",
       "  color: var(--sklearn-color-unfitted-level-1);\n",
       "  border: var(--sklearn-color-unfitted-level-1) 1pt solid;\n",
       "}\n",
       "\n",
       "#sk-container-id-5 a.estimator_doc_link.fitted {\n",
       "  /* fitted */\n",
       "  border: var(--sklearn-color-fitted-level-1) 1pt solid;\n",
       "  color: var(--sklearn-color-fitted-level-1);\n",
       "}\n",
       "\n",
       "/* On hover */\n",
       "#sk-container-id-5 a.estimator_doc_link:hover {\n",
       "  /* unfitted */\n",
       "  background-color: var(--sklearn-color-unfitted-level-3);\n",
       "  color: var(--sklearn-color-background);\n",
       "  text-decoration: none;\n",
       "}\n",
       "\n",
       "#sk-container-id-5 a.estimator_doc_link.fitted:hover {\n",
       "  /* fitted */\n",
       "  background-color: var(--sklearn-color-fitted-level-3);\n",
       "}\n",
       "</style><div id=\"sk-container-id-5\" class=\"sk-top-container\"><div class=\"sk-text-repr-fallback\"><pre>MinMaxScaler()</pre><b>In a Jupyter environment, please rerun this cell to show the HTML representation or trust the notebook. <br />On GitHub, the HTML representation is unable to render, please try loading this page with nbviewer.org.</b></div><div class=\"sk-container\" hidden><div class=\"sk-item\"><div class=\"sk-estimator fitted sk-toggleable\"><input class=\"sk-toggleable__control sk-hidden--visually\" id=\"sk-estimator-id-5\" type=\"checkbox\" checked><label for=\"sk-estimator-id-5\" class=\"sk-toggleable__label fitted sk-toggleable__label-arrow\"><div><div>MinMaxScaler</div></div><div><a class=\"sk-estimator-doc-link fitted\" rel=\"noreferrer\" target=\"_blank\" href=\"https://scikit-learn.org/1.6/modules/generated/sklearn.preprocessing.MinMaxScaler.html\">?<span>Documentation for MinMaxScaler</span></a><span class=\"sk-estimator-doc-link fitted\">i<span>Fitted</span></span></div></label><div class=\"sk-toggleable__content fitted\"><pre>MinMaxScaler()</pre></div> </div></div></div></div>"
      ],
      "text/plain": [
       "MinMaxScaler()"
      ]
     },
     "execution_count": 153,
     "metadata": {},
     "output_type": "execute_result"
    }
   ],
   "source": [
    "scaler = MinMaxScaler()\n",
    "scaler.fit(x_train)"
   ]
  }
 ],
 "metadata": {
  "kernelspec": {
   "display_name": "Python 3",
   "language": "python",
   "name": "python3"
  },
  "language_info": {
   "codemirror_mode": {
    "name": "ipython",
    "version": 3
   },
   "file_extension": ".py",
   "mimetype": "text/x-python",
   "name": "python",
   "nbconvert_exporter": "python",
   "pygments_lexer": "ipython3",
   "version": "3.10.0"
  }
 },
 "nbformat": 4,
 "nbformat_minor": 5
}
